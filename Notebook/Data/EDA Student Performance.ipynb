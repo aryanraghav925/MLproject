{
 "cells": [
  {
   "cell_type": "markdown",
   "id": "31923688",
   "metadata": {},
   "source": [
    "Student Performance Indicator"
   ]
  },
  {
   "cell_type": "markdown",
   "metadata": {},
   "source": [
    "Life Cycle of Machine Learning Project\n",
    "Understanding the Problem Statement\n",
    "Data Collection\n",
    "Data Checks to Confirm\n",
    "Expolatory Data Analysis\n",
    "Data Pre-Processing\n",
    "Model Training\n",
    "Choose Best Model"
   ]
  },
  {
   "cell_type": "markdown",
   "metadata": {},
   "source": [
    "1) Problem Statement\n",
    "The project understands how the student performance (test scores) is affected by other variables such as Gender,Ethnicity,Parental Level of education,Lunch and test preparation course. "
   ]
  },
  {
   "cell_type": "markdown",
   "id": "2469bfa7",
   "metadata": {},
   "source": [
    "2)Data Collection"
   ]
  },
  {
   "cell_type": "markdown",
   "id": "3d69d35d",
   "metadata": {},
   "source": []
  },
  {
   "cell_type": "markdown",
   "metadata": {},
   "source": []
  },
  {
   "cell_type": "markdown",
   "id": "7892e799",
   "metadata": {},
   "source": []
  },
  {
   "cell_type": "markdown",
   "metadata": {},
   "source": []
  },
  {
   "cell_type": "markdown",
   "id": "7d505fa0",
   "metadata": {},
   "source": []
  },
  {
   "cell_type": "markdown",
   "metadata": {},
   "source": []
  },
  {
   "cell_type": "markdown",
   "metadata": {},
   "source": []
  },
  {
   "cell_type": "markdown",
   "metadata": {},
   "source": []
  },
  {
   "cell_type": "markdown",
   "id": "fc2b2643",
   "metadata": {},
   "source": []
  },
  {
   "cell_type": "markdown",
   "metadata": {},
   "source": []
  }
 ],
 "metadata": {
  "kernelspec": {
   "display_name": "Python 3",
   "language": "python",
   "name": "python3"
  },
  "language_info": {
   "name": "python",
   "version": "3.12.0"
  }
 },
 "nbformat": 4,
 "nbformat_minor": 5
}
